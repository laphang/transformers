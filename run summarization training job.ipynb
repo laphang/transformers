{
 "cells": [
  {
   "cell_type": "markdown",
   "metadata": {},
   "source": [
    "## Set up the environment"
   ]
  },
  {
   "cell_type": "code",
   "execution_count": 1,
   "metadata": {},
   "outputs": [],
   "source": [
    "import time\n",
    "import os\n",
    "import sagemaker\n",
    "import boto3\n",
    "from sagemaker import get_execution_role\n",
    "from sagemaker.tensorflow import TensorFlow\n",
    "from sagemaker.analytics import ExperimentAnalytics\n",
    "\n",
    "boto3_session = boto3.Session()\n",
    "sm_client = boto3_session.client('sagemaker')\n",
    "sm_session = sagemaker.Session(boto_session=boto3_session, sagemaker_client=sm_client)\n",
    "role = get_execution_role()"
   ]
  },
  {
   "cell_type": "code",
   "execution_count": 2,
   "metadata": {},
   "outputs": [
    {
     "name": "stdout",
     "output_type": "stream",
     "text": [
      "Requirement already satisfied: sagemaker-experiments in /home/ec2-user/anaconda3/envs/tensorflow2_p36/lib/python3.6/site-packages (0.1.22)\n",
      "Requirement already satisfied: boto3>=1.12.8 in /home/ec2-user/anaconda3/envs/tensorflow2_p36/lib/python3.6/site-packages (from sagemaker-experiments) (1.14.27)\n",
      "Requirement already satisfied: jmespath<1.0.0,>=0.7.1 in /home/ec2-user/anaconda3/envs/tensorflow2_p36/lib/python3.6/site-packages (from boto3>=1.12.8->sagemaker-experiments) (0.9.4)\n",
      "Requirement already satisfied: s3transfer<0.4.0,>=0.3.0 in /home/ec2-user/anaconda3/envs/tensorflow2_p36/lib/python3.6/site-packages (from boto3>=1.12.8->sagemaker-experiments) (0.3.3)\n",
      "Requirement already satisfied: botocore<1.18.0,>=1.17.27 in /home/ec2-user/anaconda3/envs/tensorflow2_p36/lib/python3.6/site-packages (from boto3>=1.12.8->sagemaker-experiments) (1.17.27)\n",
      "Requirement already satisfied: python-dateutil<3.0.0,>=2.1 in /home/ec2-user/anaconda3/envs/tensorflow2_p36/lib/python3.6/site-packages (from botocore<1.18.0,>=1.17.27->boto3>=1.12.8->sagemaker-experiments) (2.8.1)\n",
      "Requirement already satisfied: docutils<0.16,>=0.10 in /home/ec2-user/anaconda3/envs/tensorflow2_p36/lib/python3.6/site-packages (from botocore<1.18.0,>=1.17.27->boto3>=1.12.8->sagemaker-experiments) (0.15.2)\n",
      "Requirement already satisfied: urllib3<1.26,>=1.20; python_version != \"3.4\" in /home/ec2-user/anaconda3/envs/tensorflow2_p36/lib/python3.6/site-packages (from botocore<1.18.0,>=1.17.27->boto3>=1.12.8->sagemaker-experiments) (1.25.8)\n",
      "Requirement already satisfied: six>=1.5 in /home/ec2-user/anaconda3/envs/tensorflow2_p36/lib/python3.6/site-packages (from python-dateutil<3.0.0,>=2.1->botocore<1.18.0,>=1.17.27->boto3>=1.12.8->sagemaker-experiments) (1.14.0)\n",
      "\u001b[33mWARNING: You are using pip version 20.0.2; however, version 20.1.1 is available.\n",
      "You should consider upgrading via the '/home/ec2-user/anaconda3/envs/tensorflow2_p36/bin/python -m pip install --upgrade pip' command.\u001b[0m\n"
     ]
    }
   ],
   "source": [
    "import sys\n",
    "!{sys.executable} -m pip install sagemaker-experiments\n",
    "\n",
    "from smexperiments.experiment import Experiment\n",
    "from smexperiments.trial import Trial\n",
    "from smexperiments.trial_component import TrialComponent\n",
    "from smexperiments.tracker import Tracker"
   ]
  },
  {
   "cell_type": "code",
   "execution_count": 3,
   "metadata": {},
   "outputs": [],
   "source": [
    "bucket = 'ml-misc-sagemaker'\n",
    "prefix = 'sagemaker/script-mode'"
   ]
  },
  {
   "cell_type": "markdown",
   "metadata": {},
   "source": [
    "## Download the CIFAR-10 dataset\n",
    "Downloading the test and training data takes around 5 minutes."
   ]
  },
  {
   "cell_type": "code",
   "execution_count": 6,
   "metadata": {},
   "outputs": [
    {
     "name": "stdout",
     "output_type": "stream",
     "text": [
      "Collecting wget\n",
      "  Downloading wget-3.2.zip (10 kB)\n",
      "Building wheels for collected packages: wget\n",
      "  Building wheel for wget (setup.py) ... \u001b[?25ldone\n",
      "\u001b[?25h  Created wheel for wget: filename=wget-3.2-py3-none-any.whl size=9681 sha256=fc814cb7566b7c08ca93b9fbb0f2e6f0b47012555b6cf9c5bfaea05d4e856b87\n",
      "  Stored in directory: /home/ec2-user/.cache/pip/wheels/90/1d/93/c863ee832230df5cfc25ca497b3e88e0ee3ea9e44adc46ac62\n",
      "Successfully built wget\n",
      "Installing collected packages: wget\n",
      "Successfully installed wget-3.2\n",
      "\u001b[33mWARNING: You are using pip version 20.0.2; however, version 20.1.1 is available.\n",
      "You should consider upgrading via the '/home/ec2-user/anaconda3/envs/tensorflow2_p36/bin/python -m pip install --upgrade pip' command.\u001b[0m\n",
      "mkdir: cannot create directory ‘data’: File exists\n",
      "Download from https://www.cs.toronto.edu/~kriz/cifar-10-python.tar.gz and extract.\n",
      "data/\n",
      "100% [..................................................] 170498071 / 170498071Generating data//train/train.tfrecords\n",
      "Generating data//validation/validation.tfrecords\n",
      "Generating data//eval/eval.tfrecords\n",
      "Done!\n"
     ]
    }
   ],
   "source": [
    "!pip install wget\n",
    "import wget # for TF2\n",
    "\n",
    "#!python generate_cifar10_tfrecords_v1.x.py --data-dir data/\n",
    "!mkdir data\n",
    "!python generate_cifar10_tfrecords_v2.py --data-dir data/"
   ]
  },
  {
   "cell_type": "markdown",
   "metadata": {},
   "source": [
    "## Run on SageMaker cloud"
   ]
  },
  {
   "cell_type": "markdown",
   "metadata": {},
   "source": [
    "### Uploading the data to s3"
   ]
  },
  {
   "cell_type": "code",
   "execution_count": 7,
   "metadata": {},
   "outputs": [
    {
     "name": "stderr",
     "output_type": "stream",
     "text": [
      "INFO:sagemaker:Created S3 bucket: sagemaker-ap-southeast-2-719164424367\n"
     ]
    },
    {
     "data": {
      "text/plain": [
       "'s3://sagemaker-ap-southeast-2-719164424367/data/DEMO-cifar10-tf'"
      ]
     },
     "metadata": {},
     "output_type": "display_data"
    }
   ],
   "source": [
    "dataset_location = sm_session.upload_data(path='data', key_prefix='data/DEMO-cifar10-tf')\n",
    "display(dataset_location)"
   ]
  },
  {
   "cell_type": "markdown",
   "metadata": {},
   "source": [
    "Now lets track the parameters from the data pre-processing step."
   ]
  },
  {
   "cell_type": "code",
   "execution_count": 8,
   "metadata": {},
   "outputs": [],
   "source": [
    "with Tracker.create(display_name=\"Preprocessing\", sagemaker_boto_client=sm_client) as tracker:\n",
    "    tracker.log_parameters({\n",
    "        \"datatype\": 'tfrecords',\n",
    "        \"image_size\": 32,\n",
    "    })\n",
    "    # we can log the s3 uri to the dataset we just uploaded\n",
    "    tracker.log_input(name=\"cifar10-dataset\", media_type=\"s3/uri\", value=dataset_location)"
   ]
  },
  {
   "cell_type": "markdown",
   "metadata": {},
   "source": [
    "SageMaker can get training metrics directly from the logs and send them to CloudWatch metrics."
   ]
  },
  {
   "cell_type": "code",
   "execution_count": 9,
   "metadata": {},
   "outputs": [],
   "source": [
    "keras_metric_definition = [\n",
    "    {'Name': 'train:loss', 'Regex': '.*loss: ([0-9\\\\.]+) - acc: [0-9\\\\.]+.*'},\n",
    "    {'Name': 'train:accuracy', 'Regex': '.*loss: [0-9\\\\.]+ - acc: ([0-9\\\\.]+).*'},\n",
    "    {'Name': 'validation:accuracy', 'Regex': '.*step - loss: [0-9\\\\.]+ - acc: [0-9\\\\.]+ - val_loss: [0-9\\\\.]+ - val_acc: ([0-9\\\\.]+).*'},\n",
    "    {'Name': 'validation:loss', 'Regex': '.*step - loss: [0-9\\\\.]+ - acc: [0-9\\\\.]+ - val_loss: ([0-9\\\\.]+) - val_acc: [0-9\\\\.]+.*'},\n",
    "    {'Name': 'sec/steps', 'Regex': '.* - \\d+s (\\d+)[mu]s/step - loss: [0-9\\\\.]+ - acc: [0-9\\\\.]+ - val_loss: [0-9\\\\.]+ - val_acc: [0-9\\\\.]+'}\n",
    "]"
   ]
  },
  {
   "cell_type": "markdown",
   "metadata": {},
   "source": [
    "### Step 1 - Set up the Experiment\n",
    "\n",
    "Create an experiment to track all the model training iterations. Experiments are a great way to organize your data science work. You can create experiments to organize all your model development work for : [1] a business use case you are addressing, or [2] a data science team that owns the experiment, or [3] a specific data science and ML project. Think of it as a “folder” for organizing your “files”."
   ]
  },
  {
   "cell_type": "code",
   "execution_count": 10,
   "metadata": {},
   "outputs": [
    {
     "name": "stdout",
     "output_type": "stream",
     "text": [
      "Experiment(sagemaker_boto_client=<botocore.client.SageMaker object at 0x7f9305e19f28>,experiment_name='cifar10-image-classification-1596084065',description='Classification of images',tags=None,experiment_arn='arn:aws:sagemaker:ap-southeast-2:719164424367:experiment/cifar10-image-classification-1596084065',response_metadata={'RequestId': '455160b1-1f7e-4d69-87e1-39f3e33fbeba', 'HTTPStatusCode': 200, 'HTTPHeaders': {'x-amzn-requestid': '455160b1-1f7e-4d69-87e1-39f3e33fbeba', 'content-type': 'application/x-amz-json-1.1', 'content-length': '116', 'date': 'Thu, 30 Jul 2020 04:41:05 GMT'}, 'RetryAttempts': 0})\n"
     ]
    }
   ],
   "source": [
    "cifar10_experiment = Experiment.create(\n",
    "    experiment_name=f\"cifar10-image-classification-{int(time.time())}\", \n",
    "    description=\"Classification of images\", \n",
    "    sagemaker_boto_client=sm_client)\n",
    "print(cifar10_experiment)"
   ]
  },
  {
   "cell_type": "markdown",
   "metadata": {},
   "source": [
    "### Step 2 - Track Experiment\n",
    "### Now create a Trial for each training run to track the it's inputs, parameters, and metrics.\n",
    "While training the CNN model on SageMaker, we will experiment with several values for optimization method in the model. We will create a Trial to track each training job run. We will also create a TrialComponent from the tracker we created before, and add to the Trial. This will enrich the Trial with the parameters we captured from the data pre-processing stage.\n",
    "\n",
    "Note the execution of the following code takes a while. If you want to run the following training jobs asynchronously, you may need to increase your resource limit. Otherwise, you can run them sequentially."
   ]
  },
  {
   "cell_type": "code",
   "execution_count": 11,
   "metadata": {},
   "outputs": [],
   "source": [
    "tags = [{'Key':'product','Value':'mlai'}, {'Key':'environment', 'Value':'development'}, {'Key':'owner', 'Value':'ML/AI team'}]"
   ]
  },
  {
   "cell_type": "code",
   "execution_count": 12,
   "metadata": {},
   "outputs": [],
   "source": [
    "train_use_spot_instances = True\n",
    "train_max_run=3600\n",
    "train_max_wait = 3600 if train_use_spot_instances else None"
   ]
  },
  {
   "cell_type": "code",
   "execution_count": 13,
   "metadata": {},
   "outputs": [
    {
     "name": "stderr",
     "output_type": "stream",
     "text": [
      "WARNING:sagemaker:'s3_input' class will be renamed to 'TrainingInput' in SageMaker Python SDK v2.\n",
      "WARNING:sagemaker:'s3_input' class will be renamed to 'TrainingInput' in SageMaker Python SDK v2.\n",
      "WARNING:sagemaker:'s3_input' class will be renamed to 'TrainingInput' in SageMaker Python SDK v2.\n",
      "WARNING:sagemaker:'create_image_uri' will be deprecated in favor of 'ImageURIProvider' class in SageMaker Python SDK v2.\n",
      "INFO:sagemaker:Creating training-job with name: cifar-training-job-1596084147\n",
      "WARNING:sagemaker:'s3_input' class will be renamed to 'TrainingInput' in SageMaker Python SDK v2.\n",
      "WARNING:sagemaker:'s3_input' class will be renamed to 'TrainingInput' in SageMaker Python SDK v2.\n",
      "WARNING:sagemaker:'s3_input' class will be renamed to 'TrainingInput' in SageMaker Python SDK v2.\n",
      "WARNING:sagemaker:'create_image_uri' will be deprecated in favor of 'ImageURIProvider' class in SageMaker Python SDK v2.\n",
      "INFO:sagemaker:Creating training-job with name: cifar-training-job-1596084150\n"
     ]
    }
   ],
   "source": [
    "opt_method_trial_name_map = {}\n",
    "#for i, opt_method in enumerate(['adam','sgd','rmsprop']):\n",
    "for i, opt_method in enumerate(['sgd','rmsprop']):\n",
    "    # create trial\n",
    "    trial_name = f\"cifar10-training-job-with-{opt_method}-optimization-{int(time.time())}\"\n",
    "    cifar10_trial = Trial.create(\n",
    "        trial_name=trial_name, \n",
    "        experiment_name=cifar10_experiment.experiment_name,\n",
    "        sagemaker_boto_client=sm_client,\n",
    "    )\n",
    "    opt_method_trial_name_map[opt_method] = trial_name\n",
    "    \n",
    "    # associate the proprocessing trial component with the current trial\n",
    "    cifar10_trial.add_trial_component(tracker.trial_component)\n",
    "\n",
    "\n",
    "    estimator = TensorFlow(base_job_name='cifar10-tf',\n",
    "                           entry_point='cifar10_keras_main.py',\n",
    "                           source_dir=os.path.join(os.getcwd(), 'source_dir'),\n",
    "                           role=role,\n",
    "                           framework_version='1.12.0',\n",
    "                           py_version='py3',\n",
    "                           hyperparameters={'epochs': 1, 'batch-size' : 256, 'optimizer' : opt_method},\n",
    "                           train_instance_count=1, train_instance_type='ml.p3.2xlarge',\n",
    "                           tags=tags, \n",
    "                           train_use_spot_instances=train_use_spot_instances,\n",
    "                           train_max_run=train_max_run,\n",
    "                           train_max_wait=train_max_wait, \n",
    "                           metric_definitions=keras_metric_definition)\n",
    "    \n",
    "    cifar10_training_job_name = \"cifar-training-job-{}\".format(int(time.time()))\n",
    "    remote_inputs = {'train' : dataset_location+'/train', 'validation' : dataset_location+'/validation', 'eval' : dataset_location+'/eval'}\n",
    "    estimator.fit(remote_inputs, job_name=cifar10_training_job_name,\n",
    "        experiment_config={\n",
    "            \"TrialName\": cifar10_trial.trial_name,\n",
    "            \"TrialComponentDisplayName\": \"Training\",\n",
    "        },\n",
    "        wait=False,)\n",
    "    # give it a while before dispatching the next training job\n",
    "    time.sleep(2)"
   ]
  },
  {
   "cell_type": "markdown",
   "metadata": {},
   "source": [
    "### Compare the model training runs for an experiment\n",
    "\n",
    "Now we will use the analytics capabilities of Python SDK to query and compare the training runs for identifying the best model produced by our experiment. You can retrieve trial components by using a search expression."
   ]
  },
  {
   "cell_type": "markdown",
   "metadata": {},
   "source": [
    "### Some Simple Analyses"
   ]
  },
  {
   "cell_type": "code",
   "execution_count": 14,
   "metadata": {},
   "outputs": [],
   "source": [
    "search_expression = {\n",
    "    \"Filters\":[\n",
    "        {\n",
    "            \"Name\": \"DisplayName\",\n",
    "            \"Operator\": \"Equals\",\n",
    "            \"Value\": \"Training\",\n",
    "        }\n",
    "    ],\n",
    "}"
   ]
  },
  {
   "cell_type": "code",
   "execution_count": 15,
   "metadata": {},
   "outputs": [],
   "source": [
    "trial_component_analytics = ExperimentAnalytics(\n",
    "    sagemaker_session=sm_session, \n",
    "    experiment_name=cifar10_experiment.experiment_name,\n",
    "    search_expression=search_expression,\n",
    "    sort_by=\"metrics.validation:accuracy.max\",\n",
    "    sort_order=\"Descending\",\n",
    "    metric_names=['train:accuracy', 'validation:accuracy'],\n",
    "    parameter_names=['optimizer']\n",
    ")"
   ]
  },
  {
   "cell_type": "code",
   "execution_count": 16,
   "metadata": {},
   "outputs": [
    {
     "data": {
      "text/html": [
       "<div>\n",
       "<style scoped>\n",
       "    .dataframe tbody tr th:only-of-type {\n",
       "        vertical-align: middle;\n",
       "    }\n",
       "\n",
       "    .dataframe tbody tr th {\n",
       "        vertical-align: top;\n",
       "    }\n",
       "\n",
       "    .dataframe thead th {\n",
       "        text-align: right;\n",
       "    }\n",
       "</style>\n",
       "<table border=\"1\" class=\"dataframe\">\n",
       "  <thead>\n",
       "    <tr style=\"text-align: right;\">\n",
       "      <th></th>\n",
       "      <th>TrialComponentName</th>\n",
       "      <th>DisplayName</th>\n",
       "      <th>SourceArn</th>\n",
       "      <th>optimizer</th>\n",
       "      <th>validation:accuracy - Min</th>\n",
       "      <th>validation:accuracy - Max</th>\n",
       "      <th>validation:accuracy - Avg</th>\n",
       "      <th>validation:accuracy - StdDev</th>\n",
       "      <th>validation:accuracy - Last</th>\n",
       "      <th>validation:accuracy - Count</th>\n",
       "      <th>...</th>\n",
       "      <th>eval - MediaType</th>\n",
       "      <th>eval - Value</th>\n",
       "      <th>train - MediaType</th>\n",
       "      <th>train - Value</th>\n",
       "      <th>validation - MediaType</th>\n",
       "      <th>validation - Value</th>\n",
       "      <th>SageMaker.DebugHookOutput - MediaType</th>\n",
       "      <th>SageMaker.DebugHookOutput - Value</th>\n",
       "      <th>SageMaker.ModelArtifact - MediaType</th>\n",
       "      <th>SageMaker.ModelArtifact - Value</th>\n",
       "    </tr>\n",
       "  </thead>\n",
       "  <tbody>\n",
       "    <tr>\n",
       "      <th>0</th>\n",
       "      <td>cifar-training-job-1596084150-aws-training-job</td>\n",
       "      <td>Training</td>\n",
       "      <td>arn:aws:sagemaker:ap-southeast-2:719164424367:...</td>\n",
       "      <td>\"rmsprop\"</td>\n",
       "      <td>0.0</td>\n",
       "      <td>0.0</td>\n",
       "      <td>0.0</td>\n",
       "      <td>0.0</td>\n",
       "      <td>0.3927</td>\n",
       "      <td>0</td>\n",
       "      <td>...</td>\n",
       "      <td>None</td>\n",
       "      <td>s3://sagemaker-ap-southeast-2-719164424367/dat...</td>\n",
       "      <td>None</td>\n",
       "      <td>s3://sagemaker-ap-southeast-2-719164424367/dat...</td>\n",
       "      <td>None</td>\n",
       "      <td>s3://sagemaker-ap-southeast-2-719164424367/dat...</td>\n",
       "      <td>None</td>\n",
       "      <td>s3://sagemaker-ap-southeast-2-719164424367/</td>\n",
       "      <td>None</td>\n",
       "      <td>s3://sagemaker-ap-southeast-2-719164424367/cif...</td>\n",
       "    </tr>\n",
       "    <tr>\n",
       "      <th>1</th>\n",
       "      <td>cifar-training-job-1596084147-aws-training-job</td>\n",
       "      <td>Training</td>\n",
       "      <td>arn:aws:sagemaker:ap-southeast-2:719164424367:...</td>\n",
       "      <td>\"sgd\"</td>\n",
       "      <td>0.0</td>\n",
       "      <td>0.0</td>\n",
       "      <td>0.0</td>\n",
       "      <td>0.0</td>\n",
       "      <td>0.2510</td>\n",
       "      <td>0</td>\n",
       "      <td>...</td>\n",
       "      <td>None</td>\n",
       "      <td>s3://sagemaker-ap-southeast-2-719164424367/dat...</td>\n",
       "      <td>None</td>\n",
       "      <td>s3://sagemaker-ap-southeast-2-719164424367/dat...</td>\n",
       "      <td>None</td>\n",
       "      <td>s3://sagemaker-ap-southeast-2-719164424367/dat...</td>\n",
       "      <td>None</td>\n",
       "      <td>s3://sagemaker-ap-southeast-2-719164424367/</td>\n",
       "      <td>None</td>\n",
       "      <td>s3://sagemaker-ap-southeast-2-719164424367/cif...</td>\n",
       "    </tr>\n",
       "  </tbody>\n",
       "</table>\n",
       "<p>2 rows × 26 columns</p>\n",
       "</div>"
      ],
      "text/plain": [
       "                               TrialComponentName DisplayName  \\\n",
       "0  cifar-training-job-1596084150-aws-training-job    Training   \n",
       "1  cifar-training-job-1596084147-aws-training-job    Training   \n",
       "\n",
       "                                           SourceArn  optimizer  \\\n",
       "0  arn:aws:sagemaker:ap-southeast-2:719164424367:...  \"rmsprop\"   \n",
       "1  arn:aws:sagemaker:ap-southeast-2:719164424367:...      \"sgd\"   \n",
       "\n",
       "   validation:accuracy - Min  validation:accuracy - Max  \\\n",
       "0                        0.0                        0.0   \n",
       "1                        0.0                        0.0   \n",
       "\n",
       "   validation:accuracy - Avg  validation:accuracy - StdDev  \\\n",
       "0                        0.0                           0.0   \n",
       "1                        0.0                           0.0   \n",
       "\n",
       "   validation:accuracy - Last  validation:accuracy - Count  ...  \\\n",
       "0                      0.3927                            0  ...   \n",
       "1                      0.2510                            0  ...   \n",
       "\n",
       "   eval - MediaType                                       eval - Value  \\\n",
       "0              None  s3://sagemaker-ap-southeast-2-719164424367/dat...   \n",
       "1              None  s3://sagemaker-ap-southeast-2-719164424367/dat...   \n",
       "\n",
       "   train - MediaType                                      train - Value  \\\n",
       "0               None  s3://sagemaker-ap-southeast-2-719164424367/dat...   \n",
       "1               None  s3://sagemaker-ap-southeast-2-719164424367/dat...   \n",
       "\n",
       "   validation - MediaType                                 validation - Value  \\\n",
       "0                    None  s3://sagemaker-ap-southeast-2-719164424367/dat...   \n",
       "1                    None  s3://sagemaker-ap-southeast-2-719164424367/dat...   \n",
       "\n",
       "  SageMaker.DebugHookOutput - MediaType  \\\n",
       "0                                  None   \n",
       "1                                  None   \n",
       "\n",
       "             SageMaker.DebugHookOutput - Value  \\\n",
       "0  s3://sagemaker-ap-southeast-2-719164424367/   \n",
       "1  s3://sagemaker-ap-southeast-2-719164424367/   \n",
       "\n",
       "  SageMaker.ModelArtifact - MediaType  \\\n",
       "0                                None   \n",
       "1                                None   \n",
       "\n",
       "                     SageMaker.ModelArtifact - Value  \n",
       "0  s3://sagemaker-ap-southeast-2-719164424367/cif...  \n",
       "1  s3://sagemaker-ap-southeast-2-719164424367/cif...  \n",
       "\n",
       "[2 rows x 26 columns]"
      ]
     },
     "execution_count": 16,
     "metadata": {},
     "output_type": "execute_result"
    }
   ],
   "source": [
    "trial_component_analytics.dataframe()"
   ]
  },
  {
   "cell_type": "markdown",
   "metadata": {},
   "source": [
    "Next let's look at an example of tracing the lineage of a model by accessing the data tracked by SageMaker Experiments for a `cifar-training-job` trial"
   ]
  },
  {
   "cell_type": "code",
   "execution_count": 18,
   "metadata": {},
   "outputs": [
    {
     "data": {
      "text/html": [
       "<div>\n",
       "<style scoped>\n",
       "    .dataframe tbody tr th:only-of-type {\n",
       "        vertical-align: middle;\n",
       "    }\n",
       "\n",
       "    .dataframe tbody tr th {\n",
       "        vertical-align: top;\n",
       "    }\n",
       "\n",
       "    .dataframe thead th {\n",
       "        text-align: right;\n",
       "    }\n",
       "</style>\n",
       "<table border=\"1\" class=\"dataframe\">\n",
       "  <thead>\n",
       "    <tr style=\"text-align: right;\">\n",
       "      <th></th>\n",
       "      <th>TrialComponentName</th>\n",
       "      <th>DisplayName</th>\n",
       "      <th>datatype</th>\n",
       "      <th>image_size</th>\n",
       "      <th>cifar10-dataset - MediaType</th>\n",
       "      <th>cifar10-dataset - Value</th>\n",
       "      <th>SourceArn</th>\n",
       "      <th>SageMaker.ImageUri</th>\n",
       "      <th>SageMaker.InstanceCount</th>\n",
       "      <th>SageMaker.InstanceType</th>\n",
       "      <th>...</th>\n",
       "      <th>eval - MediaType</th>\n",
       "      <th>eval - Value</th>\n",
       "      <th>train - MediaType</th>\n",
       "      <th>train - Value</th>\n",
       "      <th>validation - MediaType</th>\n",
       "      <th>validation - Value</th>\n",
       "      <th>SageMaker.DebugHookOutput - MediaType</th>\n",
       "      <th>SageMaker.DebugHookOutput - Value</th>\n",
       "      <th>SageMaker.ModelArtifact - MediaType</th>\n",
       "      <th>SageMaker.ModelArtifact - Value</th>\n",
       "    </tr>\n",
       "  </thead>\n",
       "  <tbody>\n",
       "    <tr>\n",
       "      <th>0</th>\n",
       "      <td>TrialComponent-2020-07-30-044058-awby</td>\n",
       "      <td>Preprocessing</td>\n",
       "      <td>tfrecords</td>\n",
       "      <td>32.0</td>\n",
       "      <td>s3/uri</td>\n",
       "      <td>s3://sagemaker-ap-southeast-2-719164424367/dat...</td>\n",
       "      <td>NaN</td>\n",
       "      <td>NaN</td>\n",
       "      <td>NaN</td>\n",
       "      <td>NaN</td>\n",
       "      <td>...</td>\n",
       "      <td>NaN</td>\n",
       "      <td>NaN</td>\n",
       "      <td>NaN</td>\n",
       "      <td>NaN</td>\n",
       "      <td>NaN</td>\n",
       "      <td>NaN</td>\n",
       "      <td>NaN</td>\n",
       "      <td>NaN</td>\n",
       "      <td>NaN</td>\n",
       "      <td>NaN</td>\n",
       "    </tr>\n",
       "    <tr>\n",
       "      <th>1</th>\n",
       "      <td>cifar-training-job-1596084147-aws-training-job</td>\n",
       "      <td>Training</td>\n",
       "      <td>NaN</td>\n",
       "      <td>NaN</td>\n",
       "      <td>NaN</td>\n",
       "      <td>NaN</td>\n",
       "      <td>arn:aws:sagemaker:ap-southeast-2:719164424367:...</td>\n",
       "      <td>520713654638.dkr.ecr.ap-southeast-2.amazonaws....</td>\n",
       "      <td>1.0</td>\n",
       "      <td>ml.p3.2xlarge</td>\n",
       "      <td>...</td>\n",
       "      <td>NaN</td>\n",
       "      <td>s3://sagemaker-ap-southeast-2-719164424367/dat...</td>\n",
       "      <td>NaN</td>\n",
       "      <td>s3://sagemaker-ap-southeast-2-719164424367/dat...</td>\n",
       "      <td>NaN</td>\n",
       "      <td>s3://sagemaker-ap-southeast-2-719164424367/dat...</td>\n",
       "      <td>NaN</td>\n",
       "      <td>s3://sagemaker-ap-southeast-2-719164424367/</td>\n",
       "      <td>NaN</td>\n",
       "      <td>s3://sagemaker-ap-southeast-2-719164424367/cif...</td>\n",
       "    </tr>\n",
       "  </tbody>\n",
       "</table>\n",
       "<p>2 rows × 61 columns</p>\n",
       "</div>"
      ],
      "text/plain": [
       "                               TrialComponentName    DisplayName   datatype  \\\n",
       "0           TrialComponent-2020-07-30-044058-awby  Preprocessing  tfrecords   \n",
       "1  cifar-training-job-1596084147-aws-training-job       Training        NaN   \n",
       "\n",
       "   image_size cifar10-dataset - MediaType  \\\n",
       "0        32.0                      s3/uri   \n",
       "1         NaN                         NaN   \n",
       "\n",
       "                             cifar10-dataset - Value  \\\n",
       "0  s3://sagemaker-ap-southeast-2-719164424367/dat...   \n",
       "1                                                NaN   \n",
       "\n",
       "                                           SourceArn  \\\n",
       "0                                                NaN   \n",
       "1  arn:aws:sagemaker:ap-southeast-2:719164424367:...   \n",
       "\n",
       "                                  SageMaker.ImageUri  SageMaker.InstanceCount  \\\n",
       "0                                                NaN                      NaN   \n",
       "1  520713654638.dkr.ecr.ap-southeast-2.amazonaws....                      1.0   \n",
       "\n",
       "  SageMaker.InstanceType  ...  eval - MediaType  \\\n",
       "0                    NaN  ...               NaN   \n",
       "1          ml.p3.2xlarge  ...               NaN   \n",
       "\n",
       "                                        eval - Value  train - MediaType  \\\n",
       "0                                                NaN                NaN   \n",
       "1  s3://sagemaker-ap-southeast-2-719164424367/dat...                NaN   \n",
       "\n",
       "                                       train - Value validation - MediaType  \\\n",
       "0                                                NaN                    NaN   \n",
       "1  s3://sagemaker-ap-southeast-2-719164424367/dat...                    NaN   \n",
       "\n",
       "                                  validation - Value  \\\n",
       "0                                                NaN   \n",
       "1  s3://sagemaker-ap-southeast-2-719164424367/dat...   \n",
       "\n",
       "  SageMaker.DebugHookOutput - MediaType  \\\n",
       "0                                   NaN   \n",
       "1                                   NaN   \n",
       "\n",
       "             SageMaker.DebugHookOutput - Value  \\\n",
       "0                                          NaN   \n",
       "1  s3://sagemaker-ap-southeast-2-719164424367/   \n",
       "\n",
       "  SageMaker.ModelArtifact - MediaType  \\\n",
       "0                                 NaN   \n",
       "1                                 NaN   \n",
       "\n",
       "                     SageMaker.ModelArtifact - Value  \n",
       "0                                                NaN  \n",
       "1  s3://sagemaker-ap-southeast-2-719164424367/cif...  \n",
       "\n",
       "[2 rows x 61 columns]"
      ]
     },
     "execution_count": 18,
     "metadata": {},
     "output_type": "execute_result"
    }
   ],
   "source": [
    "lineage_table = ExperimentAnalytics(\n",
    "    sagemaker_session=sm_session, \n",
    "    search_expression={\n",
    "        \"Filters\":[{\n",
    "            \"Name\": \"Parents.TrialName\",\n",
    "            \"Operator\": \"Equals\",\n",
    "            \"Value\": opt_method_trial_name_map['sgd']\n",
    "        }]\n",
    "    },\n",
    "    sort_by=\"CreationTime\",\n",
    "    sort_order=\"Ascending\",\n",
    ")\n",
    "lineage_table.dataframe()"
   ]
  },
  {
   "cell_type": "code",
   "execution_count": null,
   "metadata": {},
   "outputs": [],
   "source": []
  }
 ],
 "metadata": {
  "instance_type": "ml.t3.medium",
  "kernelspec": {
   "display_name": "conda_python3",
   "language": "python",
   "name": "conda_python3"
  },
  "language_info": {
   "codemirror_mode": {
    "name": "ipython",
    "version": 3
   },
   "file_extension": ".py",
   "mimetype": "text/x-python",
   "name": "python",
   "nbconvert_exporter": "python",
   "pygments_lexer": "ipython3",
   "version": "3.6.10"
  },
  "notice": "Copyright 2017 Amazon.com, Inc. or its affiliates. All Rights Reserved.  Licensed under the Apache License, Version 2.0 (the \"License\"). You may not use this file except in compliance with the License. A copy of the License is located at http://aws.amazon.com/apache2.0/ or in the \"license\" file accompanying this file. This file is distributed on an \"AS IS\" BASIS, WITHOUT WARRANTIES OR CONDITIONS OF ANY KIND, either express or implied. See the License for the specific language governing permissions and limitations under the License.",
  "pycharm": {
   "stem_cell": {
    "cell_type": "raw",
    "metadata": {
     "collapsed": false
    },
    "source": []
   }
  }
 },
 "nbformat": 4,
 "nbformat_minor": 4
}
